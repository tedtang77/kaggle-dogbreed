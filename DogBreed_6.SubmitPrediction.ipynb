{
 "cells": [
  {
   "cell_type": "markdown",
   "metadata": {},
   "source": [
    "# Dog Breed Identification\n",
    "\n",
    "[Dog Breed Identification](https://www.kaggle.com/c/dog-breed-identification)"
   ]
  },
  {
   "cell_type": "markdown",
   "metadata": {},
   "source": [
    "## Action Plan\n",
    "### 1. [Data Preparation and Preprocessing] Create Validation and Sample sets\n",
    "### 2. [Data Preparation and Preprocessing] Rearrange image files into their respective directories \n",
    "### 3. Finetune and Train model\n",
    "### 4. Generate predictions\n",
    "### 5. Validate predictions\n",
    "### 6. Submit predictions to Kaggle"
   ]
  },
  {
   "cell_type": "code",
   "execution_count": 1,
   "metadata": {},
   "outputs": [
    {
     "data": {
      "text/plain": [
       "'/home/ubuntu/kaggle/dog-breed-identification/code'"
      ]
     },
     "execution_count": 1,
     "metadata": {},
     "output_type": "execute_result"
    }
   ],
   "source": [
    "%pwd"
   ]
  },
  {
   "cell_type": "code",
   "execution_count": 2,
   "metadata": {},
   "outputs": [
    {
     "name": "stdout",
     "output_type": "stream",
     "text": [
      "/home/ubuntu/kaggle/dog-breed-identification/code\n",
      "/home/ubuntu/kaggle/dog-breed-identification/code/../input/\n"
     ]
    }
   ],
   "source": [
    "#Create references to important directories we will use over and over\n",
    "import os, sys\n",
    "current_dir = os.getcwd()\n",
    "CODE_HOME_DIR = current_dir\n",
    "DATA_HOME_DIR = CODE_HOME_DIR + '/../input/'\n",
    "print(CODE_HOME_DIR)\n",
    "print(DATA_HOME_DIR)"
   ]
  },
  {
   "cell_type": "code",
   "execution_count": 3,
   "metadata": {},
   "outputs": [
    {
     "name": "stderr",
     "output_type": "stream",
     "text": [
      "Using TensorFlow backend.\n",
      "/home/ubuntu/anaconda3/lib/python3.6/importlib/_bootstrap.py:219: RuntimeWarning: compiletime version 3.5 of module 'tensorflow.python.framework.fast_tensor_util' does not match runtime version 3.6\n",
      "  return f(*args, **kwds)\n"
     ]
    }
   ],
   "source": [
    "#import modules\n",
    "from importlib import reload\n",
    "\n",
    "import utils; reload(utils)\n",
    "from utils import *\n",
    "\n",
    "import vgg16bn; reload(vgg16bn)\n",
    "from vgg16bn import Vgg16BN; \n",
    "\n",
    "%matplotlib inline"
   ]
  },
  {
   "cell_type": "markdown",
   "metadata": {},
   "source": [
    "## Setup "
   ]
  },
  {
   "cell_type": "markdown",
   "metadata": {},
   "source": [
    "#### Setup Paths"
   ]
  },
  {
   "cell_type": "code",
   "execution_count": 4,
   "metadata": {},
   "outputs": [
    {
     "name": "stdout",
     "output_type": "stream",
     "text": [
      "/home/ubuntu/kaggle/dog-breed-identification/input\n"
     ]
    }
   ],
   "source": [
    "%cd $DATA_HOME_DIR\n",
    "\n",
    "#Set path to sample/ path if desired\n",
    "path = DATA_HOME_DIR + '/' # + '/sample/' \n",
    "test_path = path + '/test/' #We use all the test data\n",
    "results_path = path + '/results/'\n",
    "train_path = path + '/train/'\n",
    "valid_path = path + '/valid/'\n",
    "model_path = path + '/models/'\n",
    "if not os.path.exists(model_path): os.mkdir(model_path)"
   ]
  },
  {
   "cell_type": "markdown",
   "metadata": {},
   "source": [
    "## 6. Submit Predictions to Kaggle!"
   ]
  },
  {
   "cell_type": "markdown",
   "metadata": {},
   "source": [
    "Here's the format Kaggle requires for new submissions:\n",
    "```\n",
    "imageId,affenpinscher,afghan_hound,african_hunting_dog,airedale,...,whippet,wire-haired_fox_terrier,yorkshire_terrier\n",
    "000621fb3cbb32d8935728e48679680e,0.00833333333333333,0.00833333333333333,.....,0.00833333333333333\n",
    "00102ee9d8eb90812350685311fe5890,0.00833333333333333,0.00833333333333333,.....,0.00833333333333333\n",
    "0012a730dfa437f5f3613fb75efcd4ce,0.00833333333333333,0.00833333333333333,.....,0.00833333333333333\n",
    " ...\n",
    "fffbff22c1f51e3dc80c4bf04089545b,0.00833333333333333,0.00833333333333333,.....,0.00833333333333333\n",
    "```\n",
    "\n",
    "Kaggle wants the imageId followed by the probability of each dog breeds. Kaggle uses a metric called [Log Loss](http://wiki.fast.ai/index.php/Log_Loss) to evaluate your submission."
   ]
  },
  {
   "cell_type": "code",
   "execution_count": 5,
   "metadata": {
    "collapsed": true
   },
   "outputs": [],
   "source": [
    "#Load our test predictions from file\n",
    "preds = load_array(results_path + 'test_preds.dat')\n",
    "filenames = load_array(results_path + 'filenames.dat')\n",
    "\n",
    "classes = load_array(results_path + 'classes.dat')"
   ]
  },
  {
   "cell_type": "code",
   "execution_count": 6,
   "metadata": {},
   "outputs": [
    {
     "name": "stdout",
     "output_type": "stream",
     "text": [
      "(10357, 1)\n",
      "(10357, 120)\n"
     ]
    }
   ],
   "source": [
    "#Extract imageIds from the filenames in our test/unknown directory \n",
    "filenames[:5]\n",
    "ids = np.array([f[8:f.find('.')] for f in filenames]).reshape(-1,1).astype('object')\n",
    "print(ids.shape)\n",
    "print(preds.shape)\n",
    "#ids"
   ]
  },
  {
   "cell_type": "code",
   "execution_count": 7,
   "metadata": {
    "collapsed": true
   },
   "outputs": [],
   "source": [
    "subm = np.concatenate((ids, preds), axis=1)\n",
    "#print(subm.shape)\n",
    "#subm\n",
    "#print(subm[3][2])"
   ]
  },
  {
   "cell_type": "code",
   "execution_count": 10,
   "metadata": {},
   "outputs": [
    {
     "name": "stdout",
     "output_type": "stream",
     "text": [
      "/home/ubuntu/kaggle/dog-breed-identification/input\n"
     ]
    }
   ],
   "source": [
    "%cd $DATA_HOME_DIR\n",
    "subm_file_name = 'submission2.csv'\n",
    "subm_format = '%32s'+',%.17f' * 120\n",
    "subm_header = 'id'\n",
    "for c in classes:\n",
    "    subm_header = subm_header + ','+c\n",
    "\n",
    "np.savetxt(subm_file_name, subm, fmt=subm_format, delimiter=',', header=subm_header, comments='')"
   ]
  },
  {
   "cell_type": "code",
   "execution_count": 13,
   "metadata": {},
   "outputs": [
    {
     "data": {
      "text/html": [
       "<a href='../input/submission2.csv' target='_blank'>../input/submission2.csv</a><br>"
      ],
      "text/plain": [
       "/home/ubuntu/kaggle/dog-breed-identification/input/submission2.csv"
      ]
     },
     "execution_count": 13,
     "metadata": {},
     "output_type": "execute_result"
    }
   ],
   "source": [
    "from IPython.display import FileLink\n",
    "FileLink(\"../input/\"+subm_file_name)"
   ]
  },
  {
   "cell_type": "code",
   "execution_count": null,
   "metadata": {
    "collapsed": true
   },
   "outputs": [],
   "source": []
  }
 ],
 "metadata": {
  "kernelspec": {
   "display_name": "Python 3",
   "language": "python",
   "name": "python3"
  },
  "language_info": {
   "codemirror_mode": {
    "name": "ipython",
    "version": 3
   },
   "file_extension": ".py",
   "mimetype": "text/x-python",
   "name": "python",
   "nbconvert_exporter": "python",
   "pygments_lexer": "ipython3",
   "version": "3.6.3"
  }
 },
 "nbformat": 4,
 "nbformat_minor": 2
}
