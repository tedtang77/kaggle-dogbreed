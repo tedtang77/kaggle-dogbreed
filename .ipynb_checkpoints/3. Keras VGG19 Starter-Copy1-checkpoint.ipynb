{
 "cells": [
  {
   "cell_type": "code",
   "execution_count": 1,
   "metadata": {
    "_cell_guid": "8a7bff8d-c95a-4cfb-8c38-14ab989f769b",
    "_uuid": "4da5a3e7db32799ca0108576e469157094d23111"
   },
   "outputs": [
    {
     "name": "stderr",
     "output_type": "stream",
     "text": [
      "Using TensorFlow backend.\n"
     ]
    },
    {
     "name": "stdout",
     "output_type": "stream",
     "text": [
      "labels.csv\n",
      "sample_submission.csv\n",
      "test\n",
      "train\n",
      "\n"
     ]
    }
   ],
   "source": [
    "# This Python 3 environment comes with many helpful analytics libraries installed\n",
    "# It is defined by the kaggle/python docker image: https://github.com/kaggle/docker-python\n",
    "# For example, here's several helpful packages to load in \n",
    "import numpy as np # linear algebra\n",
    "import pandas as pd # data processing, CSV file I/O (e.g. pd.read_csv)\n",
    "import keras\n",
    "from keras.applications.vgg19 import VGG19\n",
    "from keras.models import Model\n",
    "from keras.layers import Dense, Dropout, Flatten\n",
    "\n",
    "import os\n",
    "from tqdm import tqdm\n",
    "from sklearn import preprocessing\n",
    "from sklearn.model_selection import train_test_split\n",
    "import cv2\n",
    "# Input data files are available in the \"../input/\" directory.\n",
    "# For example, running this (by clicking run or pressing Shift+Enter) will list the files in the input directory\n",
    "\n",
    "from subprocess import check_output\n",
    "print(check_output([\"ls\", \"../input\"]).decode(\"utf8\"))\n",
    "\n",
    "# Any results you write to the current directory are saved as output."
   ]
  },
  {
   "cell_type": "markdown",
   "metadata": {
    "_cell_guid": "0b8fddbc-447f-4083-88c4-9bd5f811253d",
    "_uuid": "7c64ad63b95b36df5a2223b4c499c1caad9c73ee"
   },
   "source": [
    "First we will read in the csv's so we can see some more information on the filenames and breeds"
   ]
  },
  {
   "cell_type": "code",
   "execution_count": 2,
   "metadata": {
    "_cell_guid": "bcbeef91-f00e-4a68-b1b8-25e206027bb2",
    "_uuid": "18e9091e9a3d851fb0ce796a3b537ffb7f47c874",
    "collapsed": true
   },
   "outputs": [],
   "source": [
    "df_train = pd.read_csv('../input/labels.csv')\n",
    "df_test = pd.read_csv('../input/sample_submission.csv')"
   ]
  },
  {
   "cell_type": "code",
   "execution_count": 3,
   "metadata": {
    "_cell_guid": "6abe20dc-a411-4334-ad66-2526d99c7f63",
    "_uuid": "0ba75a32f91650bc75440443ab3d11c35e44e1c9"
   },
   "outputs": [
    {
     "data": {
      "text/html": [
       "<div>\n",
       "<style>\n",
       "    .dataframe thead tr:only-child th {\n",
       "        text-align: right;\n",
       "    }\n",
       "\n",
       "    .dataframe thead th {\n",
       "        text-align: left;\n",
       "    }\n",
       "\n",
       "    .dataframe tbody tr th {\n",
       "        vertical-align: top;\n",
       "    }\n",
       "</style>\n",
       "<table border=\"1\" class=\"dataframe\">\n",
       "  <thead>\n",
       "    <tr style=\"text-align: right;\">\n",
       "      <th></th>\n",
       "      <th>id</th>\n",
       "      <th>breed</th>\n",
       "    </tr>\n",
       "  </thead>\n",
       "  <tbody>\n",
       "    <tr>\n",
       "      <th>0</th>\n",
       "      <td>000bec180eb18c7604dcecc8fe0dba07</td>\n",
       "      <td>boston_bull</td>\n",
       "    </tr>\n",
       "    <tr>\n",
       "      <th>1</th>\n",
       "      <td>001513dfcb2ffafc82cccf4d8bbaba97</td>\n",
       "      <td>dingo</td>\n",
       "    </tr>\n",
       "    <tr>\n",
       "      <th>2</th>\n",
       "      <td>001cdf01b096e06d78e9e5112d419397</td>\n",
       "      <td>pekinese</td>\n",
       "    </tr>\n",
       "    <tr>\n",
       "      <th>3</th>\n",
       "      <td>00214f311d5d2247d5dfe4fe24b2303d</td>\n",
       "      <td>bluetick</td>\n",
       "    </tr>\n",
       "    <tr>\n",
       "      <th>4</th>\n",
       "      <td>0021f9ceb3235effd7fcde7f7538ed62</td>\n",
       "      <td>golden_retriever</td>\n",
       "    </tr>\n",
       "    <tr>\n",
       "      <th>5</th>\n",
       "      <td>002211c81b498ef88e1b40b9abf84e1d</td>\n",
       "      <td>bedlington_terrier</td>\n",
       "    </tr>\n",
       "    <tr>\n",
       "      <th>6</th>\n",
       "      <td>00290d3e1fdd27226ba27a8ce248ce85</td>\n",
       "      <td>bedlington_terrier</td>\n",
       "    </tr>\n",
       "    <tr>\n",
       "      <th>7</th>\n",
       "      <td>002a283a315af96eaea0e28e7163b21b</td>\n",
       "      <td>borzoi</td>\n",
       "    </tr>\n",
       "    <tr>\n",
       "      <th>8</th>\n",
       "      <td>003df8b8a8b05244b1d920bb6cf451f9</td>\n",
       "      <td>basenji</td>\n",
       "    </tr>\n",
       "    <tr>\n",
       "      <th>9</th>\n",
       "      <td>0042188c895a2f14ef64a918ed9c7b64</td>\n",
       "      <td>scottish_deerhound</td>\n",
       "    </tr>\n",
       "  </tbody>\n",
       "</table>\n",
       "</div>"
      ],
      "text/plain": [
       "                                 id               breed\n",
       "0  000bec180eb18c7604dcecc8fe0dba07         boston_bull\n",
       "1  001513dfcb2ffafc82cccf4d8bbaba97               dingo\n",
       "2  001cdf01b096e06d78e9e5112d419397            pekinese\n",
       "3  00214f311d5d2247d5dfe4fe24b2303d            bluetick\n",
       "4  0021f9ceb3235effd7fcde7f7538ed62    golden_retriever\n",
       "5  002211c81b498ef88e1b40b9abf84e1d  bedlington_terrier\n",
       "6  00290d3e1fdd27226ba27a8ce248ce85  bedlington_terrier\n",
       "7  002a283a315af96eaea0e28e7163b21b              borzoi\n",
       "8  003df8b8a8b05244b1d920bb6cf451f9             basenji\n",
       "9  0042188c895a2f14ef64a918ed9c7b64  scottish_deerhound"
      ]
     },
     "execution_count": 3,
     "metadata": {},
     "output_type": "execute_result"
    }
   ],
   "source": [
    "df_train.head(10)"
   ]
  },
  {
   "cell_type": "markdown",
   "metadata": {
    "_cell_guid": "31789e79-005d-4219-82f7-b757f6595adc",
    "_uuid": "860b860b8f98c9fe381645044628cc7492eaa6fd"
   },
   "source": [
    "We can see that the breed needs to be one-hot encoded for the final submission, so we will now do this."
   ]
  },
  {
   "cell_type": "code",
   "execution_count": 4,
   "metadata": {
    "_cell_guid": "1ba5da72-9d82-404d-aa25-ce9739a45775",
    "_uuid": "7fbb53109a3d08bedb1abac074f8186bdea991ac",
    "collapsed": true
   },
   "outputs": [],
   "source": [
    "targets_series = pd.Series(df_train['breed'])\n",
    "one_hot = pd.get_dummies(targets_series, sparse = True)"
   ]
  },
  {
   "cell_type": "code",
   "execution_count": 5,
   "metadata": {
    "_cell_guid": "23fdc238-9f15-41d0-be8b-1913e6b1dd0f",
    "_uuid": "07c3bf3155c29a76d6f42af9b2135bbbaca87c92",
    "collapsed": true
   },
   "outputs": [],
   "source": [
    "one_hot_labels = np.asarray(one_hot)"
   ]
  },
  {
   "cell_type": "markdown",
   "metadata": {
    "_cell_guid": "421885e6-97a5-4a43-bdf5-6b60cfc0b3d3",
    "_uuid": "d59fb275c2e30a410c9c8af8489f38138b1513ac"
   },
   "source": [
    "Next we will read in all of the images for test and train, using a for loop through the values of the csv files. I have also set an im_size variable which sets the size for the image to be re-sized to,  90x90 px, you should play with this number to see how it affects accuracy."
   ]
  },
  {
   "cell_type": "code",
   "execution_count": 6,
   "metadata": {
    "_cell_guid": "0e89e3ca-7c9e-4f76-aaf8-8c5267e3a415",
    "_uuid": "7b47e6524b0fcf5ccb9a237cbdc8d444ff215dfb",
    "collapsed": true
   },
   "outputs": [],
   "source": [
    "im_size = 90"
   ]
  },
  {
   "cell_type": "code",
   "execution_count": 7,
   "metadata": {
    "_cell_guid": "cc632b19-d7c8-4c78-b5bf-4f0313603c11",
    "_uuid": "e7f00cc68bbb5b9b15ee3373361bab01287476ce",
    "collapsed": true
   },
   "outputs": [],
   "source": [
    "x_train = []\n",
    "y_train = []\n",
    "x_test = []"
   ]
  },
  {
   "cell_type": "code",
   "execution_count": 8,
   "metadata": {
    "_cell_guid": "98aab483-199c-451b-80a9-a9c1cf3d02be",
    "_uuid": "1f099a6a4d6b16ed3202a91d5376b77579664d04"
   },
   "outputs": [
    {
     "name": "stderr",
     "output_type": "stream",
     "text": [
      "100%|██████████| 10222/10222 [00:23<00:00, 434.98it/s]\n"
     ]
    }
   ],
   "source": [
    "i = 0 \n",
    "for f, breed in tqdm(df_train.values):\n",
    "    img = cv2.imread('../input/train/{}.jpg'.format(f))\n",
    "    label = one_hot_labels[i]\n",
    "    x_train.append(cv2.resize(img, (im_size, im_size)))\n",
    "    y_train.append(label)\n",
    "    i += 1"
   ]
  },
  {
   "cell_type": "code",
   "execution_count": 9,
   "metadata": {
    "_cell_guid": "ceaf5e6d-058d-495f-80d0-55b02870a936",
    "_uuid": "bdee8455dd9f5f6232e57a83d19f06527b259611"
   },
   "outputs": [
    {
     "name": "stderr",
     "output_type": "stream",
     "text": [
      "100%|██████████| 10357/10357 [00:22<00:00, 452.62it/s]\n"
     ]
    }
   ],
   "source": [
    "for f in tqdm(df_test['id'].values):\n",
    "    img = cv2.imread('../input/test/{}.jpg'.format(f))\n",
    "    x_test.append(cv2.resize(img, (im_size, im_size)))"
   ]
  },
  {
   "cell_type": "code",
   "execution_count": 10,
   "metadata": {
    "_cell_guid": "d7dccd3d-9369-4b7c-b589-97f4bd299cd2",
    "_uuid": "29804cc313366d5ac155dead1c37fabbc036a4ad",
    "collapsed": true
   },
   "outputs": [],
   "source": [
    "y_train_raw = np.array(y_train, np.uint8)\n",
    "x_train_raw = np.array(x_train, np.float32) / 255.\n",
    "x_test  = np.array(x_test, np.float32) / 255."
   ]
  },
  {
   "cell_type": "markdown",
   "metadata": {
    "_cell_guid": "ad4bb94f-2464-4685-9b44-32f5502e224a",
    "_uuid": "0e64cd331abd85c517cf870d41b2440b200a54f1"
   },
   "source": [
    "We check the shape of the outputs to make sure everyting went as expected."
   ]
  },
  {
   "cell_type": "code",
   "execution_count": 11,
   "metadata": {
    "_cell_guid": "b26f825e-8c02-43d9-9d1d-3e0092d69d26",
    "_uuid": "a5dddeebe7556cecf31da047693710179ce29f98"
   },
   "outputs": [
    {
     "name": "stdout",
     "output_type": "stream",
     "text": [
      "(10222, 90, 90, 3)\n",
      "(10222, 120)\n",
      "(10357, 90, 90, 3)\n"
     ]
    }
   ],
   "source": [
    "print(x_train_raw.shape)\n",
    "print(y_train_raw.shape)\n",
    "print(x_test.shape)"
   ]
  },
  {
   "cell_type": "markdown",
   "metadata": {
    "_cell_guid": "3c6de3f8-d801-4cde-8877-db415b61da8e",
    "_uuid": "70495031a1e6789f8784b4a0c1c2919df4896722"
   },
   "source": [
    "\n",
    "We can see above that there are 120 different breeds. We can put this in a num_class variable below that can then be used when creating the CNN model."
   ]
  },
  {
   "cell_type": "code",
   "execution_count": 12,
   "metadata": {
    "_cell_guid": "60707a5f-0689-4ecf-a0df-3e3e9c76e076",
    "_uuid": "00fdfb9bf52e9f7a8030d88dfab823262c0f1dc2",
    "collapsed": true
   },
   "outputs": [],
   "source": [
    "num_class = y_train_raw.shape[1]"
   ]
  },
  {
   "cell_type": "markdown",
   "metadata": {
    "_cell_guid": "c4b45b4a-de62-44c8-ace7-b81c371e9eb5",
    "_uuid": "267bbc11b7bc95dd622bdcee0df0c1547ab419dc"
   },
   "source": [
    "It is important to create a validation set so that you can gauge the performance of your model on independent data, unseen to the model in training. We do this by splitting the current training set (x_train_raw) and the corresponding labels (y_train_raw) so that we set aside 30 % of the data at random and put these in validation sets (X_valid and Y_valid).\n",
    "\n",
    "* This split needs to be improved so that it contains images from every class, with 120 separate classes some can not be represented and so the validation score is not informative. "
   ]
  },
  {
   "cell_type": "code",
   "execution_count": 13,
   "metadata": {
    "_cell_guid": "fd2dec22-e057-433b-81ba-f1d8a7580b8e",
    "_uuid": "116f3d718f6bf256eb0a2992c344e5f52f9be181",
    "collapsed": true
   },
   "outputs": [],
   "source": [
    "X_train, X_valid, Y_train, Y_valid = train_test_split(x_train_raw, y_train_raw, test_size=0.3, random_state=1)"
   ]
  },
  {
   "cell_type": "markdown",
   "metadata": {
    "_cell_guid": "ea14cf49-c458-4505-ae3c-3d487c413541",
    "_uuid": "0b593bba735e6136dae235b9d02a2ff95c916f9a"
   },
   "source": [
    "Now we build the CNN architecture. Here we are using a pre-trained model VGG19 which has already been trained to identify many different dog breeds (as well as a lot of other objects from the imagenet dataset see here for more information: http://image-net.org/about-overview). Unfortunately it doesn't seem possible to downlod the weights from within this kernel so make sure you set the weights argument to 'imagenet' and not None, as it currently is below.\n",
    "\n",
    "We then remove the final layer and instead replace it with a single dense layer with the number of nodes corresponding to the number of breed classes we have (120)."
   ]
  },
  {
   "cell_type": "code",
   "execution_count": 14,
   "metadata": {
    "_cell_guid": "decf1fdf-5a24-41cd-b9b3-d49825efec82",
    "_uuid": "0946091bb67a488a05f9e39e8dac432b485eb70a"
   },
   "outputs": [
    {
     "name": "stdout",
     "output_type": "stream",
     "text": [
      "_________________________________________________________________\n",
      "Layer (type)                 Output Shape              Param #   \n",
      "=================================================================\n",
      "input_1 (InputLayer)         (None, 90, 90, 3)         0         \n",
      "_________________________________________________________________\n",
      "block1_conv1 (Conv2D)        (None, 90, 90, 64)        1792      \n",
      "_________________________________________________________________\n",
      "block1_conv2 (Conv2D)        (None, 90, 90, 64)        36928     \n",
      "_________________________________________________________________\n",
      "block1_pool (MaxPooling2D)   (None, 45, 45, 64)        0         \n",
      "_________________________________________________________________\n",
      "block2_conv1 (Conv2D)        (None, 45, 45, 128)       73856     \n",
      "_________________________________________________________________\n",
      "block2_conv2 (Conv2D)        (None, 45, 45, 128)       147584    \n",
      "_________________________________________________________________\n",
      "block2_pool (MaxPooling2D)   (None, 22, 22, 128)       0         \n",
      "_________________________________________________________________\n",
      "block3_conv1 (Conv2D)        (None, 22, 22, 256)       295168    \n",
      "_________________________________________________________________\n",
      "block3_conv2 (Conv2D)        (None, 22, 22, 256)       590080    \n",
      "_________________________________________________________________\n",
      "block3_conv3 (Conv2D)        (None, 22, 22, 256)       590080    \n",
      "_________________________________________________________________\n",
      "block3_conv4 (Conv2D)        (None, 22, 22, 256)       590080    \n",
      "_________________________________________________________________\n",
      "block3_pool (MaxPooling2D)   (None, 11, 11, 256)       0         \n",
      "_________________________________________________________________\n",
      "block4_conv1 (Conv2D)        (None, 11, 11, 512)       1180160   \n",
      "_________________________________________________________________\n",
      "block4_conv2 (Conv2D)        (None, 11, 11, 512)       2359808   \n",
      "_________________________________________________________________\n",
      "block4_conv3 (Conv2D)        (None, 11, 11, 512)       2359808   \n",
      "_________________________________________________________________\n",
      "block4_conv4 (Conv2D)        (None, 11, 11, 512)       2359808   \n",
      "_________________________________________________________________\n",
      "block4_pool (MaxPooling2D)   (None, 5, 5, 512)         0         \n",
      "_________________________________________________________________\n",
      "block5_conv1 (Conv2D)        (None, 5, 5, 512)         2359808   \n",
      "_________________________________________________________________\n",
      "block5_conv2 (Conv2D)        (None, 5, 5, 512)         2359808   \n",
      "_________________________________________________________________\n",
      "block5_conv3 (Conv2D)        (None, 5, 5, 512)         2359808   \n",
      "_________________________________________________________________\n",
      "block5_conv4 (Conv2D)        (None, 5, 5, 512)         2359808   \n",
      "_________________________________________________________________\n",
      "block5_pool (MaxPooling2D)   (None, 2, 2, 512)         0         \n",
      "_________________________________________________________________\n",
      "flatten_1 (Flatten)          (None, 2048)              0         \n",
      "_________________________________________________________________\n",
      "dense_1 (Dense)              (None, 120)               245880    \n",
      "=================================================================\n",
      "Total params: 20,270,264\n",
      "Trainable params: 245,880\n",
      "Non-trainable params: 20,024,384\n",
      "_________________________________________________________________\n"
     ]
    }
   ],
   "source": [
    "# Create the base pre-trained model\n",
    "# Can't download weights in the kernel\n",
    "base_model = VGG19(#weights='imagenet',\n",
    "    weights = None, include_top=False, input_shape=(im_size, im_size, 3))\n",
    "\n",
    "# Add a new top layer\n",
    "x = base_model.output\n",
    "x = Flatten()(x)\n",
    "predictions = Dense(num_class, activation='softmax')(x)\n",
    "\n",
    "# This is the model we will train\n",
    "model = Model(inputs=base_model.input, outputs=predictions)\n",
    "\n",
    "# First: train only the top layers (which were randomly initialized)\n",
    "for layer in base_model.layers:\n",
    "    layer.trainable = False\n",
    "\n",
    "model.compile(loss='categorical_crossentropy', \n",
    "              optimizer='adam', \n",
    "              metrics=['accuracy'])\n",
    "\n",
    "callbacks_list = [keras.callbacks.EarlyStopping(monitor='val_acc', patience=3, verbose=1)]\n",
    "model.summary()"
   ]
  },
  {
   "cell_type": "code",
   "execution_count": 15,
   "metadata": {
    "_cell_guid": "2580ad4a-8c2a-4b7c-bef1-e39293b0b02c",
    "_uuid": "5183ff91d3f3179aeeff320d81299a3cf1f2a852"
   },
   "outputs": [
    {
     "name": "stdout",
     "output_type": "stream",
     "text": [
      "Train on 7155 samples, validate on 3067 samples\n",
      "Epoch 1/1\n",
      "7155/7155 [==============================] - 1011s - loss: 4.7870 - acc: 0.0094 - val_loss: 4.7852 - val_acc: 0.0137\n"
     ]
    },
    {
     "data": {
      "text/plain": [
       "<keras.callbacks.History at 0x7f3647684f98>"
      ]
     },
     "execution_count": 15,
     "metadata": {},
     "output_type": "execute_result"
    }
   ],
   "source": [
    "model.fit(X_train, Y_train, epochs=1, validation_data=(X_valid, Y_valid), verbose=1)"
   ]
  },
  {
   "cell_type": "markdown",
   "metadata": {
    "_cell_guid": "9c419742-1c6a-40c6-a26a-782836ee3641",
    "_uuid": "25ed4a3f9ce837128e3baa3e91bb0aee10e72ab8"
   },
   "source": [
    "Remember, accuracy is low here because we are not taking advantage of the pre-trained weights as they cannot be downloaded in the kernel. This means we are training the wights from scratch and I we have only run 1 epoch due to the hardware constraints in the kernel.\n",
    "\n",
    "Next we will make our predictions."
   ]
  },
  {
   "cell_type": "code",
   "execution_count": 16,
   "metadata": {
    "_cell_guid": "f72763e1-68b6-4e54-9b80-ff0f4f94aa28",
    "_uuid": "e8a63ce4e324f3e011b3de7fc459301337d1b8d0"
   },
   "outputs": [
    {
     "name": "stdout",
     "output_type": "stream",
     "text": [
      "10357/10357 [==============================] - 992s   \n"
     ]
    }
   ],
   "source": [
    "preds = model.predict(x_test, verbose=1)"
   ]
  },
  {
   "cell_type": "code",
   "execution_count": 17,
   "metadata": {
    "_cell_guid": "0457a19d-0e26-4619-a3c8-78c71e7d41e6",
    "_uuid": "626b762d81d28ff77032658092d5bd9523b186b1",
    "collapsed": true
   },
   "outputs": [
    {
     "data": {
      "text/html": [
       "<div>\n",
       "<style>\n",
       "    .dataframe thead tr:only-child th {\n",
       "        text-align: right;\n",
       "    }\n",
       "\n",
       "    .dataframe thead th {\n",
       "        text-align: left;\n",
       "    }\n",
       "\n",
       "    .dataframe tbody tr th {\n",
       "        vertical-align: top;\n",
       "    }\n",
       "</style>\n",
       "<table border=\"1\" class=\"dataframe\">\n",
       "  <thead>\n",
       "    <tr style=\"text-align: right;\">\n",
       "      <th></th>\n",
       "      <th>id</th>\n",
       "      <th>affenpinscher</th>\n",
       "      <th>afghan_hound</th>\n",
       "      <th>african_hunting_dog</th>\n",
       "      <th>airedale</th>\n",
       "      <th>american_staffordshire_terrier</th>\n",
       "      <th>appenzeller</th>\n",
       "      <th>australian_terrier</th>\n",
       "      <th>basenji</th>\n",
       "      <th>basset</th>\n",
       "      <th>...</th>\n",
       "      <th>toy_poodle</th>\n",
       "      <th>toy_terrier</th>\n",
       "      <th>vizsla</th>\n",
       "      <th>walker_hound</th>\n",
       "      <th>weimaraner</th>\n",
       "      <th>welsh_springer_spaniel</th>\n",
       "      <th>west_highland_white_terrier</th>\n",
       "      <th>whippet</th>\n",
       "      <th>wire-haired_fox_terrier</th>\n",
       "      <th>yorkshire_terrier</th>\n",
       "    </tr>\n",
       "  </thead>\n",
       "  <tbody>\n",
       "    <tr>\n",
       "      <th>0</th>\n",
       "      <td>000621fb3cbb32d8935728e48679680e</td>\n",
       "      <td>0.008244</td>\n",
       "      <td>0.008700</td>\n",
       "      <td>0.008511</td>\n",
       "      <td>0.008494</td>\n",
       "      <td>0.008178</td>\n",
       "      <td>0.008055</td>\n",
       "      <td>0.008654</td>\n",
       "      <td>0.008794</td>\n",
       "      <td>0.008314</td>\n",
       "      <td>...</td>\n",
       "      <td>0.008228</td>\n",
       "      <td>0.008180</td>\n",
       "      <td>0.008128</td>\n",
       "      <td>0.008093</td>\n",
       "      <td>0.008372</td>\n",
       "      <td>0.008356</td>\n",
       "      <td>0.008265</td>\n",
       "      <td>0.008314</td>\n",
       "      <td>0.008239</td>\n",
       "      <td>0.008122</td>\n",
       "    </tr>\n",
       "    <tr>\n",
       "      <th>1</th>\n",
       "      <td>00102ee9d8eb90812350685311fe5890</td>\n",
       "      <td>0.008227</td>\n",
       "      <td>0.008738</td>\n",
       "      <td>0.008527</td>\n",
       "      <td>0.008506</td>\n",
       "      <td>0.008164</td>\n",
       "      <td>0.008031</td>\n",
       "      <td>0.008680</td>\n",
       "      <td>0.008837</td>\n",
       "      <td>0.008312</td>\n",
       "      <td>...</td>\n",
       "      <td>0.008217</td>\n",
       "      <td>0.008161</td>\n",
       "      <td>0.008103</td>\n",
       "      <td>0.008079</td>\n",
       "      <td>0.008379</td>\n",
       "      <td>0.008361</td>\n",
       "      <td>0.008262</td>\n",
       "      <td>0.008311</td>\n",
       "      <td>0.008235</td>\n",
       "      <td>0.008099</td>\n",
       "    </tr>\n",
       "    <tr>\n",
       "      <th>2</th>\n",
       "      <td>0012a730dfa437f5f3613fb75efcd4ce</td>\n",
       "      <td>0.008245</td>\n",
       "      <td>0.008695</td>\n",
       "      <td>0.008507</td>\n",
       "      <td>0.008492</td>\n",
       "      <td>0.008181</td>\n",
       "      <td>0.008061</td>\n",
       "      <td>0.008652</td>\n",
       "      <td>0.008788</td>\n",
       "      <td>0.008315</td>\n",
       "      <td>...</td>\n",
       "      <td>0.008231</td>\n",
       "      <td>0.008178</td>\n",
       "      <td>0.008131</td>\n",
       "      <td>0.008094</td>\n",
       "      <td>0.008369</td>\n",
       "      <td>0.008356</td>\n",
       "      <td>0.008267</td>\n",
       "      <td>0.008313</td>\n",
       "      <td>0.008237</td>\n",
       "      <td>0.008125</td>\n",
       "    </tr>\n",
       "    <tr>\n",
       "      <th>3</th>\n",
       "      <td>001510bc8570bbeee98c8d80c8a95ec1</td>\n",
       "      <td>0.008234</td>\n",
       "      <td>0.008733</td>\n",
       "      <td>0.008522</td>\n",
       "      <td>0.008506</td>\n",
       "      <td>0.008169</td>\n",
       "      <td>0.008034</td>\n",
       "      <td>0.008678</td>\n",
       "      <td>0.008832</td>\n",
       "      <td>0.008309</td>\n",
       "      <td>...</td>\n",
       "      <td>0.008222</td>\n",
       "      <td>0.008161</td>\n",
       "      <td>0.008104</td>\n",
       "      <td>0.008079</td>\n",
       "      <td>0.008375</td>\n",
       "      <td>0.008358</td>\n",
       "      <td>0.008261</td>\n",
       "      <td>0.008309</td>\n",
       "      <td>0.008226</td>\n",
       "      <td>0.008099</td>\n",
       "    </tr>\n",
       "    <tr>\n",
       "      <th>4</th>\n",
       "      <td>001a5f3114548acdefa3d4da05474c2e</td>\n",
       "      <td>0.008243</td>\n",
       "      <td>0.008705</td>\n",
       "      <td>0.008508</td>\n",
       "      <td>0.008494</td>\n",
       "      <td>0.008178</td>\n",
       "      <td>0.008055</td>\n",
       "      <td>0.008658</td>\n",
       "      <td>0.008798</td>\n",
       "      <td>0.008314</td>\n",
       "      <td>...</td>\n",
       "      <td>0.008227</td>\n",
       "      <td>0.008170</td>\n",
       "      <td>0.008126</td>\n",
       "      <td>0.008091</td>\n",
       "      <td>0.008372</td>\n",
       "      <td>0.008358</td>\n",
       "      <td>0.008266</td>\n",
       "      <td>0.008312</td>\n",
       "      <td>0.008235</td>\n",
       "      <td>0.008120</td>\n",
       "    </tr>\n",
       "  </tbody>\n",
       "</table>\n",
       "<p>5 rows × 121 columns</p>\n",
       "</div>"
      ],
      "text/plain": [
       "                                 id  affenpinscher  afghan_hound  \\\n",
       "0  000621fb3cbb32d8935728e48679680e       0.008244      0.008700   \n",
       "1  00102ee9d8eb90812350685311fe5890       0.008227      0.008738   \n",
       "2  0012a730dfa437f5f3613fb75efcd4ce       0.008245      0.008695   \n",
       "3  001510bc8570bbeee98c8d80c8a95ec1       0.008234      0.008733   \n",
       "4  001a5f3114548acdefa3d4da05474c2e       0.008243      0.008705   \n",
       "\n",
       "   african_hunting_dog  airedale  american_staffordshire_terrier  appenzeller  \\\n",
       "0             0.008511  0.008494                        0.008178     0.008055   \n",
       "1             0.008527  0.008506                        0.008164     0.008031   \n",
       "2             0.008507  0.008492                        0.008181     0.008061   \n",
       "3             0.008522  0.008506                        0.008169     0.008034   \n",
       "4             0.008508  0.008494                        0.008178     0.008055   \n",
       "\n",
       "   australian_terrier   basenji    basset        ...          toy_poodle  \\\n",
       "0            0.008654  0.008794  0.008314        ...            0.008228   \n",
       "1            0.008680  0.008837  0.008312        ...            0.008217   \n",
       "2            0.008652  0.008788  0.008315        ...            0.008231   \n",
       "3            0.008678  0.008832  0.008309        ...            0.008222   \n",
       "4            0.008658  0.008798  0.008314        ...            0.008227   \n",
       "\n",
       "   toy_terrier    vizsla  walker_hound  weimaraner  welsh_springer_spaniel  \\\n",
       "0     0.008180  0.008128      0.008093    0.008372                0.008356   \n",
       "1     0.008161  0.008103      0.008079    0.008379                0.008361   \n",
       "2     0.008178  0.008131      0.008094    0.008369                0.008356   \n",
       "3     0.008161  0.008104      0.008079    0.008375                0.008358   \n",
       "4     0.008170  0.008126      0.008091    0.008372                0.008358   \n",
       "\n",
       "   west_highland_white_terrier   whippet  wire-haired_fox_terrier  \\\n",
       "0                     0.008265  0.008314                 0.008239   \n",
       "1                     0.008262  0.008311                 0.008235   \n",
       "2                     0.008267  0.008313                 0.008237   \n",
       "3                     0.008261  0.008309                 0.008226   \n",
       "4                     0.008266  0.008312                 0.008235   \n",
       "\n",
       "   yorkshire_terrier  \n",
       "0           0.008122  \n",
       "1           0.008099  \n",
       "2           0.008125  \n",
       "3           0.008099  \n",
       "4           0.008120  \n",
       "\n",
       "[5 rows x 121 columns]"
      ]
     },
     "execution_count": 17,
     "metadata": {},
     "output_type": "execute_result"
    }
   ],
   "source": [
    "sub = pd.DataFrame(preds)\n",
    "# Set column names to those generated by the one-hot encoding earlier\n",
    "col_names = one_hot.columns.values\n",
    "sub.columns = col_names\n",
    "# Insert the column id from the sample_submission at the start of the data frame\n",
    "sub.insert(0, 'id', df_test['id'])\n",
    "sub.head(5)"
   ]
  },
  {
   "cell_type": "code",
   "execution_count": 18,
   "metadata": {
    "_cell_guid": "a4ed0f81-8675-4a10-8b19-2d3ef191afe2",
    "_uuid": "b72af806cbbdea33edd7f73d24dbe9b9cbaae805",
    "collapsed": true
   },
   "outputs": [],
   "source": []
  }
 ],
 "metadata": {
  "kernelspec": {
   "display_name": "Python 3",
   "language": "python",
   "name": "python3"
  },
  "language_info": {
   "codemirror_mode": {
    "name": "ipython",
    "version": 3
   },
   "file_extension": ".py",
   "mimetype": "text/x-python",
   "name": "python",
   "nbconvert_exporter": "python",
   "pygments_lexer": "ipython3",
   "version": "3.6.1"
  }
 },
 "nbformat": 4,
 "nbformat_minor": 1
}
